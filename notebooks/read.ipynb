{
 "cells": [
  {
   "cell_type": "code",
   "execution_count": 2,
   "id": "f6e103f0-6d60-4ec4-834a-da64e9353667",
   "metadata": {},
   "outputs": [
    {
     "name": "stdout",
     "output_type": "stream",
     "text": [
      "Current directory: /Users/prakharbhardwaj/Desktop/Job_fitness_scoring_system/notebooks\n",
      "\n",
      "Contents of parent directory:\n",
      "['.DS_Store', 'frontend', 'requirements.txt', 'Untitled.ipynb', 'tests', 'backend', 'models', 'README.md', '.gitignore', 'ml_env', '.ipynb_checkpoints', '.git', 'data', 'notebooks', 'src']\n",
      "\n",
      "Contents of ../src:\n",
      "['data_parser.ipynb', 'feature_engineering.ipynb', '__init__.py', '.ipynb_checkpoints']\n",
      "\n",
      "Python path includes:\n",
      "../src\n",
      "../src\n"
     ]
    }
   ],
   "source": [
    "import sys\n",
    "import os\n",
    "\n",
    "# Check current directory\n",
    "print(\"Current directory:\", os.getcwd())\n",
    "\n",
    "# Check if src folder exists\n",
    "print(\"\\nContents of parent directory:\")\n",
    "print(os.listdir('..'))\n",
    "\n",
    "# Check if src files exist\n",
    "src_path = '../src'\n",
    "if os.path.exists(src_path):\n",
    "    print(f\"\\nContents of {src_path}:\")\n",
    "    print(os.listdir(src_path))\n",
    "else:\n",
    "    print(f\"\\n{src_path} does not exist!\")\n",
    "\n",
    "# Add src to path\n",
    "sys.path.append('../src')\n",
    "print(\"\\nPython path includes:\")\n",
    "for p in sys.path:\n",
    "    if 'src' in p:\n",
    "        print(p)"
   ]
  },
  {
   "cell_type": "code",
   "execution_count": null,
   "id": "90b74a1f-fe9b-4b63-b065-4c4bb1eb4342",
   "metadata": {},
   "outputs": [],
   "source": []
  },
  {
   "cell_type": "code",
   "execution_count": null,
   "id": "ad476721-c70e-4ec3-b0a3-56a210a958ed",
   "metadata": {},
   "outputs": [],
   "source": []
  }
 ],
 "metadata": {
  "kernelspec": {
   "display_name": "Python 3 (ipykernel)",
   "language": "python",
   "name": "python3"
  },
  "language_info": {
   "codemirror_mode": {
    "name": "ipython",
    "version": 3
   },
   "file_extension": ".py",
   "mimetype": "text/x-python",
   "name": "python",
   "nbconvert_exporter": "python",
   "pygments_lexer": "ipython3",
   "version": "3.13.3"
  }
 },
 "nbformat": 4,
 "nbformat_minor": 5
}
