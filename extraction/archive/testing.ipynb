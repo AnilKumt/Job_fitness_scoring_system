{
 "cells": [
  {
   "cell_type": "code",
   "execution_count": 1,
   "id": "299bce03",
   "metadata": {},
   "outputs": [],
   "source": [
    "import pandas as pd\n",
    "\n",
    "df = pd.read_csv(\"data/AI_Resume_Screening.csv\")\n"
   ]
  },
  {
   "cell_type": "code",
   "execution_count": 2,
   "id": "8d62d0a8",
   "metadata": {},
   "outputs": [],
   "source": [
    "names = df.Name.tolist()\n",
    "with open('data/names.txt', 'w') as f:\n",
    "    for item in names:\n",
    "        f.write(f\"{item}\\n\")\n",
    "\n"
   ]
  },
  {
   "cell_type": "code",
   "execution_count": 3,
   "id": "da5d30e6",
   "metadata": {},
   "outputs": [],
   "source": [
    "\n",
    "skills = df.Skills.tolist()"
   ]
  },
  {
   "cell_type": "code",
   "execution_count": 9,
   "id": "70c2845c",
   "metadata": {},
   "outputs": [],
   "source": [
    "skills_final = set()\n",
    "for skill in skills:\n",
    "    skill_list = skill.split(',')\n",
    "    for s in skill_list:\n",
    "        skills_final.add(s.lower().strip())"
   ]
  },
  {
   "cell_type": "code",
   "execution_count": 11,
   "id": "a7d6090f",
   "metadata": {},
   "outputs": [],
   "source": [
    "skills = list(skills_final)"
   ]
  },
  {
   "cell_type": "code",
   "execution_count": 12,
   "id": "df16e148",
   "metadata": {},
   "outputs": [
    {
     "name": "stdout",
     "output_type": "stream",
     "text": [
      "['java', 'networking', 'nlp', 'machine learning', 'python', 'sql', 'ethical hacking', 'cybersecurity', 'tensorflow', 'pytorch', 'deep learning', 'react', 'linux', 'c++']\n"
     ]
    }
   ],
   "source": [
    "print(skills)"
   ]
  },
  {
   "cell_type": "code",
   "execution_count": 13,
   "id": "bbb1eca0",
   "metadata": {},
   "outputs": [],
   "source": [
    "with open('data/skills.txt', 'w') as f:\n",
    "    for item in skills:\n",
    "        f.write(f\"{item}\\n\")"
   ]
  },
  {
   "cell_type": "code",
   "execution_count": 16,
   "id": "7be3a6d9",
   "metadata": {},
   "outputs": [],
   "source": [
    "edu = set(df.Education.tolist())"
   ]
  },
  {
   "cell_type": "code",
   "execution_count": 18,
   "id": "ff3e3243",
   "metadata": {},
   "outputs": [
    {
     "name": "stdout",
     "output_type": "stream",
     "text": [
      "['MBA', 'M.Tech', 'PhD', 'B.Tech', 'B.Sc']\n"
     ]
    }
   ],
   "source": [
    "edu = list(edu)\n",
    "print(edu)"
   ]
  },
  {
   "cell_type": "code",
   "execution_count": 19,
   "id": "e374d91c",
   "metadata": {},
   "outputs": [],
   "source": [
    "with open('data/education.txt', 'w') as f:\n",
    "    for item in edu:\n",
    "        f.write(f\"{item}\\n\")"
   ]
  },
  {
   "cell_type": "code",
   "execution_count": 20,
   "id": "311b686d",
   "metadata": {},
   "outputs": [],
   "source": [
    "cer = set(df.Certifications.tolist())\n",
    "cer = list(cer)"
   ]
  },
  {
   "cell_type": "code",
   "execution_count": 22,
   "id": "5428ec3b",
   "metadata": {},
   "outputs": [],
   "source": [
    "cer = cer[1:]"
   ]
  },
  {
   "cell_type": "code",
   "execution_count": 23,
   "id": "a678c32a",
   "metadata": {},
   "outputs": [
    {
     "data": {
      "text/plain": [
       "['Google ML', 'AWS Certified', 'Deep Learning Specialization']"
      ]
     },
     "execution_count": 23,
     "metadata": {},
     "output_type": "execute_result"
    }
   ],
   "source": [
    "cer"
   ]
  },
  {
   "cell_type": "code",
   "execution_count": 24,
   "id": "6d23baec",
   "metadata": {},
   "outputs": [],
   "source": [
    "with open('data/certifications.txt', 'w') as f:\n",
    "    for item in cer:\n",
    "        f.write(f\"{item}\\n\")"
   ]
  },
  {
   "cell_type": "code",
   "execution_count": 25,
   "id": "d09bf884",
   "metadata": {},
   "outputs": [],
   "source": [
    "jr = set(df['Job Role'].tolist())\n",
    "jr = list(jr)"
   ]
  },
  {
   "cell_type": "code",
   "execution_count": 26,
   "id": "a22ac5be",
   "metadata": {},
   "outputs": [
    {
     "data": {
      "text/plain": [
       "['Data Scientist',\n",
       " 'AI Researcher',\n",
       " 'Cybersecurity Analyst',\n",
       " 'Software Engineer']"
      ]
     },
     "execution_count": 26,
     "metadata": {},
     "output_type": "execute_result"
    }
   ],
   "source": [
    "jr"
   ]
  },
  {
   "cell_type": "code",
   "execution_count": 27,
   "id": "4aaa98f4",
   "metadata": {},
   "outputs": [],
   "source": [
    "with open('data/job_roles.txt', 'w') as f:\n",
    "    for item in jr:\n",
    "        f.write(f\"{item}\\n\")"
   ]
  },
  {
   "cell_type": "code",
   "execution_count": null,
   "id": "459af298",
   "metadata": {},
   "outputs": [],
   "source": []
  }
 ],
 "metadata": {
  "kernelspec": {
   "display_name": "Python 3",
   "language": "python",
   "name": "python3"
  },
  "language_info": {
   "codemirror_mode": {
    "name": "ipython",
    "version": 3
   },
   "file_extension": ".py",
   "mimetype": "text/x-python",
   "name": "python",
   "nbconvert_exporter": "python",
   "pygments_lexer": "ipython3",
   "version": "3.12.1"
  }
 },
 "nbformat": 4,
 "nbformat_minor": 5
}
